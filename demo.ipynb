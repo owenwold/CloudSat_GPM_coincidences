{
 "cells": [
  {
   "cell_type": "markdown",
   "metadata": {},
   "source": [
    "This file provides a demonstration of how CSAT and GPM coincidences are found and how data is interpolated. This demo will show how to retrieve a single coincidence from April 26, 2015 at approximately 6am UTC."
   ]
  },
  {
   "cell_type": "markdown",
   "metadata": {},
   "source": [
    "Run the following code block if any of the required packages have not yet been installed."
   ]
  },
  {
   "cell_type": "code",
   "execution_count": null,
   "metadata": {},
   "outputs": [],
   "source": [
    "%pip install numpy\n",
    "%pip install shapely\n",
    "%pip install netCDF4\n",
    "%pip install matplotlib\n",
    "%pip install sklearn\n",
    "%pip install haversine\n",
    "%pip install pyorbital"
   ]
  },
  {
   "cell_type": "markdown",
   "metadata": {},
   "source": [
    "Below is the user input block found at the beginning of the CSATGPM_coincidences file. This is where all info should be entered before running the program.\n",
    "\n",
    "For the purposes of this demo, one of the three required files has been provided; the other two are too large to put into github. Please download the file 2A.GPM.DPR.V9-20211125.20150426-S053741-E071011.006575.V07A.HDF5 from https://storm.pps.eosdis.nasa.gov/storm/ and the file 2015116052049_47841_CS_2B-GEOPROF_GRANULE_P1_R05_E06_F00.hdf from https://www.cloudsat.cira.colostate.edu/order/. Plase them into the demo folder under subfolders DPRfiles and CSfiles, respectively."
   ]
  },
  {
   "cell_type": "code",
   "execution_count": null,
   "metadata": {},
   "outputs": [],
   "source": [
    "# Provide desired time range for coincidences\n",
    "# to get coincidences for all months of provided year, leave months as empty list\n",
    "# to get coincidences for all days of provided months, leave days as None\n",
    "YEARS = [2015]\n",
    "MONTHS = [4]\n",
    "DAYS = 26\n",
    "\n",
    "# If coincidence list for desired time range is already stored in file, set to False and provide filepath\n",
    "NEED_COINCIDENCES = True\n",
    "COINCIDENCE_FILEPATH = None\n",
    "\n",
    "# Provide paths to downloaded files\n",
    "GMI_PATH = 'GMIfiles'\n",
    "DPR_PATH = 'DPRfiles'\n",
    "CS_PATH = 'CSfiles'\n",
    "\n",
    "# Provide filepath to save CSATGPM files\n",
    "CSATGPM_PATH = ''\n",
    "\n",
    "\n",
    "CS_TLEfile = r\"TLEs\\CloudSat_All_TLEs.txt\"\n",
    "GPM_TLEfile = r\"TLEs\\GPM_TLEs.txt\"\n",
    "PYORBITAL_CONFIG_PATH = r'\\path\\platforms'\n"
   ]
  },
  {
   "cell_type": "markdown",
   "metadata": {},
   "source": [
    "First, need to track locations of satellites over given time period and find crossings. This uses TLE files (provided in GitHub or available online at https://celestrak.org/NORAD/archives/request.php) and the python pyorbital package."
   ]
  },
  {
   "cell_type": "code",
   "execution_count": null,
   "metadata": {},
   "outputs": [],
   "source": [
    "from CSATGPM import getCoincidences\n",
    "\n",
    "coincidenceList = getCoincidences(YEARS, MONTHS, DAYS, GPM_TLEfile, CS_TLEfile, PYORBITAL_CONFIG_PATH)"
   ]
  },
  {
   "cell_type": "markdown",
   "metadata": {},
   "source": [
    "Coincidences from the day are now stored in the variable coincidenceList. For demo purposes, only one of these coincidences will be accessed. Each coincidence contains the latitude, longitude, and time for both CSAT and GPM during the crossing. Lat and Lon are nearly identical, and time can vary by up to 15 minutes, as a spatial crossing within +- 15 minutes is considered a coincidence (this can be changed in the function getCoincidences if desired)."
   ]
  },
  {
   "cell_type": "code",
   "execution_count": null,
   "metadata": {},
   "outputs": [],
   "source": [
    "coincidence = coincidenceList[5]\n",
    "print(coincidence)"
   ]
  },
  {
   "cell_type": "markdown",
   "metadata": {},
   "source": [
    "From the coincidence, the times of interest for Cloudsat and GPM can be extracted and used to find the files that cover those times."
   ]
  },
  {
   "cell_type": "code",
   "execution_count": null,
   "metadata": {},
   "outputs": [],
   "source": [
    "\n",
    "GPMtime = coincidence[7]\n",
    "\n",
    "CStime = coincidence[3]\n",
    "\n",
    "from CSATGPM import findFiles\n",
    "[GMIfile, DPRfile, CSfile] = findFiles(GPMtime, CStime, GMI_PATH, DPR_PATH,CS_PATH)\n"
   ]
  },
  {
   "cell_type": "markdown",
   "metadata": {},
   "source": [
    "These files are then passed to the map() function to interpolate and visualize data."
   ]
  },
  {
   "cell_type": "code",
   "execution_count": null,
   "metadata": {},
   "outputs": [],
   "source": [
    "ch= 1\n",
    "\n",
    "from CSATGPM import map\n",
    "map(GPMtime, CStime, GMIfile, CSfile, DPRfile, plot=True, channel=ch)"
   ]
  }
 ],
 "metadata": {
  "kernelspec": {
   "display_name": "base",
   "language": "python",
   "name": "python3"
  },
  "language_info": {
   "codemirror_mode": {
    "name": "ipython",
    "version": 3
   },
   "file_extension": ".py",
   "mimetype": "text/x-python",
   "name": "python",
   "nbconvert_exporter": "python",
   "pygments_lexer": "ipython3",
   "version": "3.11.5"
  }
 },
 "nbformat": 4,
 "nbformat_minor": 2
}
